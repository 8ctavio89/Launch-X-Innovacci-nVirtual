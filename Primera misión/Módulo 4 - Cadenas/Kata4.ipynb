{
 "cells": [
  {
   "cell_type": "markdown",
   "metadata": {},
   "source": [
    "## Ejercicio 1: Transformar cadenas\n",
    "\n",
    "Hay varias operaciones que puedes realizar en las cadenas cuando las manipulamos. En este ejercicio, usarás métodos de cadena para modificar el texto con hechos sobre la Luna y luego extraerás información para crear un breve resumen.\n",
    "\n",
    "El texto con el que trabajarás es el siguiente:"
   ]
  },
  {
   "cell_type": "code",
   "execution_count": 10,
   "metadata": {},
   "outputs": [
    {
     "name": "stdout",
     "output_type": "stream",
     "text": [
      " \n",
      ", On average, the Moon moves 4cm away from the Earth every year\n",
      " The highest daylight temperature of the Moon is 127 C\n"
     ]
    }
   ],
   "source": [
    "text = \"\"\"Interesting facts about the Moon. The Moon is Earth's only satellite. There are several interesting facts about the Moon and how it affects life here on Earth. \\n, On average, the Moon moves 4cm away from the Earth every year. This yearly drift is not significant enough to cause immediate effects on Earth. The highest daylight temperature of the Moon is 127 C.\"\"\"\n",
    "\n",
    "# Primero, divide el texto en cada oración para trabajar con su contenido.\n",
    "text_parts = text.split(\".\")\n",
    "\n",
    "# Ahora, define algunas palabras clave para búsqueda que te ayudarán a determinar si una oración contiene un hecho.\n",
    "key_words = {\"average\", \"temperature\", \"distance\"}\n",
    "\n",
    "# Crea un bucle para imprimir solo datos sobre la Luna que estén relacionados con las palabras clave definidas anteriormente.\n",
    "for sentence in text_parts:\n",
    "    for key_word in key_words:\n",
    "        if (key_word) in sentence.lower():\n",
    "            print(sentence.replace(\"Celsius\", \"C°\"))"
   ]
  },
  {
   "cell_type": "markdown",
   "metadata": {},
   "source": [
    "## Ejercicio 2: Formateando Cadenas\n",
    "\n",
    "Saber cómo dar formato a las cadenas es esencial cuando se presenta información de un programa. Hay algunas maneras diferentes de lograr esto en Python. En este ejercicio, se utilizan variables que contienen datos clave sobre la gravedad en varias lunas y luego se utilizan para dar formato e imprimir la información.\n",
    "\n",
    "El formato tiene que acomodar información sobre otras lunas, por lo que debe ser genérico.\n",
    "\n",
    "En lugar de reemplazar las variables en una cadena larga como parte de un párrafo, utiliza la información para presentarla en un formato tabular. El resultado debería verse así:\n",
    "\n",
    "Gravity Facts about Ganymede\n",
    "-------------------------------------------------------------------------------\n",
    "Planet Name: Mars\n",
    "Gravity on Ganymede: 1.4300000000000002 m/s2"
   ]
  },
  {
   "cell_type": "code",
   "execution_count": 12,
   "metadata": {},
   "outputs": [
    {
     "name": "stdout",
     "output_type": "stream",
     "text": [
      "Gravity Facts about the Moon\n",
      "------------------------------ \n",
      "Planet name: Earth. \n",
      "Gravity on the Moon: 1.6199999999999999 mts/s.\n"
     ]
    }
   ],
   "source": [
    "# Datos con los que vas a trabajar.\n",
    "name = \"Moon\"\n",
    "gravity = 0.00162\n",
    "planet = \"Earth\"\n",
    "\n",
    "# Primero, crea un título para el texto. Debido a que este texto trata sobre la gravedad en la Tierra y la Luna, úsalo para crear un título significativo. Utiliza las variables en lugar de escribir.\n",
    "\n",
    "title = f\"Gravity Facts about the {name}\"\n",
    "\n",
    "#Ahora crea una plantilla de cadena multilínea para contener el resto de la información. En lugar de usar kilómetros, debes convertir la distancia a metros multiplicados por 1,000.\n",
    "\n",
    "separator = \"-\" * 30\n",
    "\n",
    "template = f\"{title}\\n{separator} \\nPlanet name: {planet}. \\nGravity on the {name}: {gravity * 1000} mts/s2.\"\n",
    "print(template)\n"
   ]
  },
  {
   "cell_type": "code",
   "execution_count": 27,
   "metadata": {},
   "outputs": [
    {
     "name": "stdout",
     "output_type": "stream",
     "text": [
      "Gravity Facts about the Ganímedes\n",
      "------------------------------ \n",
      "Planet name: Marte. \n",
      "Gravity on Ganímedes: 1.4300000000000002 mts/s2.\n"
     ]
    }
   ],
   "source": [
    "# Datos con los que vas a trabajar.\n",
    "name = \"Ganímedes\"\n",
    "gravity = 0.00143\n",
    "planet = \"Marte\"\n",
    "\n",
    "# Primero, crea un título para el texto. Debido a que este texto trata sobre la gravedad en la Tierra y la Luna, úsalo para crear un título significativo. Utiliza las variables en lugar de escribir.\n",
    "\n",
    "title = f\"Gravity Facts about the {name}\"\n",
    "\n",
    "#Ahora crea una plantilla de cadena multilínea para contener el resto de la información. En lugar de usar kilómetros, debes convertir la distancia a metros multiplicados por 1,000.\n",
    "\n",
    "separator = \"-\" * 30\n",
    "\n",
    "template = \"{title}\\n{separator} \\nPlanet name: {planet}. \\nGravity on {name}: {gravity} mts/s2.\"\n",
    "print(template.format(title = title, separator = separator, planet = planet, name = name, gravity = gravity * 1000))"
   ]
  }
 ],
 "metadata": {
  "interpreter": {
   "hash": "2cbb95e5a402a22ef33930ebe6d0b19345fa4c8860aaa75346193f92a67a802d"
  },
  "kernelspec": {
   "display_name": "Python 3.10.1 64-bit",
   "language": "python",
   "name": "python3"
  },
  "language_info": {
   "codemirror_mode": {
    "name": "ipython",
    "version": 3
   },
   "file_extension": ".py",
   "mimetype": "text/x-python",
   "name": "python",
   "nbconvert_exporter": "python",
   "pygments_lexer": "ipython3",
   "version": "3.10.1"
  },
  "orig_nbformat": 4
 },
 "nbformat": 4,
 "nbformat_minor": 2
}
