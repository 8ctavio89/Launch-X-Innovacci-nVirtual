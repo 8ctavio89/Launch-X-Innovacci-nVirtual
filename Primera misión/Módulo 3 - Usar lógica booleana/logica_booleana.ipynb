{
 "cells": [
  {
   "cell_type": "markdown",
   "metadata": {},
   "source": [
    "## Ejercicio - Escribir declaracions if, else y elif"
   ]
  },
  {
   "cell_type": "markdown",
   "metadata": {},
   "source": [
    "Para este ejercicio escribirás una lógica condicional que imrpima una advertencia si un asteroide se acerca a la Tierra demasiado rápido. La velocidad del asteroide varía dependiendo de lo cerca que esté del sol, y cualquier velocidad superior a 25 kilómetros por segundo (km/s) merece una advertencia.\n",
    "\n",
    "Un asteroide se acerca, y viaja a una velocidad de 49 km/h.\n",
    "\n",
    "Se un asteriode entra en la atmósfera de la Tierra a una velocidad mayor o igual a 20 km/s, a veces produce un rayo de luz que se puede ver desde la Tierra. Escribe una lógica condicional que usa declaraciones if, else y elif para alertar a las personas de todo el mundo que deben buscar un asteroide en el cielo. ¡Hay uno que se dirige a la tierra ahora a una velocidad de 19 km/s!"
   ]
  },
  {
   "cell_type": "code",
   "execution_count": 2,
   "metadata": {},
   "outputs": [
    {
     "name": "stdout",
     "output_type": "stream",
     "text": [
      "Advertencia, se acerca un asteroide a una velocidad de 49 km/h.\n"
     ]
    }
   ],
   "source": [
    "asteroid_speed = 49\n",
    "\n",
    "if (asteroid_speed > 25):\n",
    "    print(f\"Advertencia, se acerca un asteroide a una velocidad de {asteroid_speed} km/h.\")"
   ]
  },
  {
   "cell_type": "code",
   "execution_count": 3,
   "metadata": {},
   "outputs": [
    {
     "name": "stdout",
     "output_type": "stream",
     "text": [
      "Hay un asteroide en la atmósfera.\n"
     ]
    }
   ],
   "source": [
    "asteroid_speed = 19\n",
    "\n",
    "if (asteroid_speed >= 20):\n",
    "    print(\"Un asteroide ha entrado en la atmósfera de la Tierra. Busca un rayo de luz en el cielo.\")\n",
    "else:\n",
    "    print(\"Hay un asteroide en la atmósfera. Pero no se acerca a una velocidad peligrosa.\")"
   ]
  },
  {
   "cell_type": "markdown",
   "metadata": {},
   "source": [
    "## Ejercicio: Uso de operadores and y for"
   ]
  },
  {
   "cell_type": "markdown",
   "metadata": {},
   "source": [
    "En el ejercicio anterior, trabajó con sentencias if, else y elif para escribir programas con lógica condicional compleja. Para crear expresiones booleanas aún más interesantes, puede usar los operadores and y or con Python.\n",
    "\n",
    "Las expresiones and son sólo si ambas subexpresiones son verdaderas.\n",
    "\n",
    "expresión1 and expresión2\n",
    "\n",
    "Las expresiones or son True si al menos una subexpresión es verdadera.\n",
    "\n",
    "expresión1 or expresión2\n",
    "\n",
    "En este ejercicio, aprenderás información más matizada sobre cuándo los asteroides representan un peligro para la Tierra, y utilizarás esa información para mejorar nuestro sistema de advertencia. Aquí está la nueva información que necesitas saber:\n",
    "\n",
    "*Los asteroides de menos de 25 metros en su dimensión más grande probablemente se quemarán a medida que entren en la atmósfera de la Tierra.\n",
    "\n",
    "* Si una pieza de un asteroide que es más grande que 25 metros pero más pequeña que 1000 metros golpeará la Tierra, causaría mucho daño.\n",
    "\n",
    "También discutimos en el ejercicio anterior:\n",
    "\n",
    "* La velocidad del asteroide varía en función de lo cerca que está del sol, y cualquier velocidad superior a 25 kilómetros por segundo (km/s) merece una advertencia.\n",
    "* Si un asteroide entra en la atmósfera de la Tierra a una velocidad mayor o igual a 20 km/s, a veces produce un rayo de luz que se puede ver desde la Tierra.\n",
    "\n",
    "Usando toda esta información, escribe un programa que emita la advertencia o información correcta a la gente de la Tierra, según la velocidad y el tamaño de un asteroide. Utiliza if, else, y elif, así como los operadores and y or."
   ]
  },
  {
   "cell_type": "code",
   "execution_count": 13,
   "metadata": {},
   "outputs": [
    {
     "name": "stdout",
     "output_type": "stream",
     "text": [
      "Todo normal.\n"
     ]
    }
   ],
   "source": [
    "def asteroid_alert(asteroid_speed: int, asteroid_size: int):\n",
    "    if (asteroid_speed > 25 and (25 <= asteroid_size <= 1000)):\n",
    "        print(\"Vamos a morir.\")\n",
    "    elif (asteroid_speed >= 20):\n",
    "        print(\"Hay una luz en el cielo.\")\n",
    "    elif (25 <= asteroid_size <= 1000):\n",
    "        print(\"Se acerca un asteroide grande.\")\n",
    "    else:\n",
    "        print(\"Todo normal.\")\n",
    "\n",
    "asteroid_alert(15, 15)"
   ]
  }
 ],
 "metadata": {
  "interpreter": {
   "hash": "2cbb95e5a402a22ef33930ebe6d0b19345fa4c8860aaa75346193f92a67a802d"
  },
  "kernelspec": {
   "display_name": "Python 3.10.1 64-bit",
   "language": "python",
   "name": "python3"
  },
  "language_info": {
   "codemirror_mode": {
    "name": "ipython",
    "version": 3
   },
   "file_extension": ".py",
   "mimetype": "text/x-python",
   "name": "python",
   "nbconvert_exporter": "python",
   "pygments_lexer": "ipython3",
   "version": "3.10.1"
  },
  "orig_nbformat": 4
 },
 "nbformat": 4,
 "nbformat_minor": 2
}
