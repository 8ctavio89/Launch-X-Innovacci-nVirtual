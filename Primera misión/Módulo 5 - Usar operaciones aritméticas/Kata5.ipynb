{
 "cells": [
  {
   "cell_type": "markdown",
   "metadata": {},
   "source": [
    "## Ejercicio 1 - Utilizar operadores aritméticos"
   ]
  },
  {
   "cell_type": "code",
   "execution_count": 3,
   "metadata": {},
   "outputs": [
    {
     "name": "stdout",
     "output_type": "stream",
     "text": [
      "629002130\n",
      "383278673.90272\n"
     ]
    }
   ],
   "source": [
    "'''\n",
    "    Exploremos cómo podemos crear un programa que pueda calcular\n",
    "    la distancia entre dos planetas. Comenzaremos usando dos distancias\n",
    "    de planetas. Comenzaremos usando dos distancias de planetas\n",
    "    Tierra (149.597.870 km) y Júpiter (778.547.200 km).\n",
    "'''\n",
    "\n",
    "# Crear variables para almacenar las dos distancias.\n",
    "# ¡Asegúrate de quitar las comas!\n",
    "\n",
    "first_planet = 149597870\n",
    "second_planet = 778600000\n",
    "\n",
    "'''\n",
    "    Con los valores obetnidos, es el momento de añadir el código para\n",
    "    realizar la operación. Restarás el primer planeta del segundo para\n",
    "    determinar la distancia en kilómetros. A continuación, puedes\n",
    "    convertir la distancia del kilómetro en millas multiplicándolo\n",
    "    por 1.609344.\n",
    "'''\n",
    "\n",
    "distance_kilometers = abs(first_planet - second_planet)\n",
    "distance_miles = abs(first_planet - second_planet) * 0.609344\n",
    "\n",
    "print(distance_kilometers)\n",
    "print(distance_miles)"
   ]
  },
  {
   "cell_type": "markdown",
   "metadata": {},
   "source": [
    "## Ejercicio 2: Convierte cadenas en números y usa valores absolutos"
   ]
  },
  {
   "cell_type": "code",
   "execution_count": 1,
   "metadata": {},
   "outputs": [
    {
     "name": "stdout",
     "output_type": "stream",
     "text": [
      "383246500.53952\n"
     ]
    }
   ],
   "source": [
    "'''\n",
    "    Lee los valores\n",
    "    Usando input, agrega el código para leer la distancia del sol para\n",
    "    cada planeta, considerando 2 planetas.\n",
    "'''\n",
    "\n",
    "# Almacenar las entradas del usuario.\n",
    "# Pista: variable = input(\"¿Cuál es tu nombre?\")\n",
    "\n",
    "# Variables con entrada por cadena.\n",
    "first_planet = input()\n",
    "second_planet = input()\n",
    "\n",
    "# Variables convertidas en enteros.\n",
    "first_planet_int = int(first_planet)\n",
    "second_planet_int = int(second_planet)\n",
    "\n",
    "# Cálculo y paso a número absoluto.\n",
    "distance_kilometers = abs(first_planet_int - second_planet_int)\n",
    "distance_miles = distance_kilometers * 0.609344\n",
    "\n",
    "print(distance_miles)"
   ]
  }
 ],
 "metadata": {
  "interpreter": {
   "hash": "2cbb95e5a402a22ef33930ebe6d0b19345fa4c8860aaa75346193f92a67a802d"
  },
  "kernelspec": {
   "display_name": "Python 3.10.1 64-bit",
   "language": "python",
   "name": "python3"
  },
  "language_info": {
   "codemirror_mode": {
    "name": "ipython",
    "version": 3
   },
   "file_extension": ".py",
   "mimetype": "text/x-python",
   "name": "python",
   "nbconvert_exporter": "python",
   "pygments_lexer": "ipython3",
   "version": "3.10.1"
  },
  "orig_nbformat": 4
 },
 "nbformat": 4,
 "nbformat_minor": 2
}
