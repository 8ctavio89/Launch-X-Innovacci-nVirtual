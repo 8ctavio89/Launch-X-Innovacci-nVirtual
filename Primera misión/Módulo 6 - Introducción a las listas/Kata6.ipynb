{
 "cells": [
  {
   "cell_type": "markdown",
   "metadata": {},
   "source": [
    "## Ejercicio 1: Crear y usar listas de Python"
   ]
  },
  {
   "cell_type": "code",
   "execution_count": 2,
   "metadata": {},
   "outputs": [
    {
     "name": "stdout",
     "output_type": "stream",
     "text": [
      "Hay 8 planetas.\n",
      "El útlimo planeta es Plutón.\n"
     ]
    }
   ],
   "source": [
    "'''\n",
    "    En primer lugar, crea una variable denominada planets. Agrega los ocho planetas (sin Plutón) a la lista. A continuación\n",
    "    muestra el número de planetas.\n",
    "'''\n",
    "\n",
    "planets = [\"Mercurio\", \"Venus\", \"Tierra\", \"Marte\", \"Júpiter\", \"Saturno\", \"Urano\", \"Neptuno\"]\n",
    "len_planets = len(planets)\n",
    "\n",
    "# Se agrega Plutón a la lista.\n",
    "planets.append(\"Plutón\")\n",
    "\n",
    "print(f\"Hay {len_planets} planetas.\")\n",
    "print(f\"El útlimo planeta es {planets[-1]}.\")\n",
    "\n"
   ]
  },
  {
   "cell_type": "markdown",
   "metadata": {},
   "source": [
    "## Ejercicio 2: Trabajando con datos de una lista"
   ]
  },
  {
   "cell_type": "code",
   "execution_count": 6,
   "metadata": {},
   "outputs": [
    {
     "name": "stdout",
     "output_type": "stream",
     "text": [
      "Los planetas que están antes que Júpiter son ['Mercurio', 'Venus', 'Tierra', 'Marte']\n",
      "['Saturno', 'Urano', 'Neptuno']\n"
     ]
    }
   ],
   "source": [
    "planets = [\"Mercurio\", \"Venus\", \"Tierra\", \"Marte\", \"Júpiter\", \"Saturno\", \"Urano\", \"Neptuno\"]\n",
    "\n",
    "# Input del usuario.\n",
    "user_planet_input = input(\"Escribe el nombre de un planeta: \")\n",
    "\n",
    "# Buscar la entrada anterior y regresar el índice si la encuentra.\n",
    "user_planet_input_index = planets.index(user_planet_input)\n",
    "\n",
    "# Verificar cuáles son los planetas más cercanos al Sol.\n",
    "print(f\"Los planetas que están antes que {user_planet_input} son {planets[0: user_planet_input_index]}\")\n",
    "\n",
    "# Mostrar planetas más alejados del sol que el que el usuario ingresó.\n",
    "print(f\"Los planetas que están después que {user_planet_input_index} son {planets[user_planet_input_index + 1:]}\")\n",
    "\n"
   ]
  }
 ],
 "metadata": {
  "interpreter": {
   "hash": "2cbb95e5a402a22ef33930ebe6d0b19345fa4c8860aaa75346193f92a67a802d"
  },
  "kernelspec": {
   "display_name": "Python 3.10.1 64-bit",
   "language": "python",
   "name": "python3"
  },
  "language_info": {
   "codemirror_mode": {
    "name": "ipython",
    "version": 3
   },
   "file_extension": ".py",
   "mimetype": "text/x-python",
   "name": "python",
   "nbconvert_exporter": "python",
   "pygments_lexer": "ipython3",
   "version": "3.10.1"
  },
  "orig_nbformat": 4
 },
 "nbformat": 4,
 "nbformat_minor": 2
}
