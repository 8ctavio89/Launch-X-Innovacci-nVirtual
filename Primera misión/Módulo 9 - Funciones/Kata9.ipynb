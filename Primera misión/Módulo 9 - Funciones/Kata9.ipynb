{
 "cells": [
  {
   "cell_type": "markdown",
   "metadata": {},
   "source": [
    "## Ejercicio: Uso de funciones en Python\n",
    "\n",
    "### Ejercicio 1: Trabajar con argumentos en funciones\n",
    "\n",
    "Los argumentos requeridos en las funciones se utilizan cuando las funciones necesitan que esos argumentos funcionen correctamente. En este ejercicio, construirás un informe de combustible que requiere información de varias ubicaciones de combustible en todo el cohete."
   ]
  },
  {
   "cell_type": "code",
   "execution_count": 5,
   "metadata": {},
   "outputs": [
    {
     "name": "stdout",
     "output_type": "stream",
     "text": [
      "2.0\n"
     ]
    }
   ],
   "source": [
    "# Comienza por crear una función que necesita tres lecturas de combustible y devuelva un informe.\n",
    "\n",
    "def informe_combustible(primer_tanque: int, segundo_tanque: int, tercer_tanque: int):\n",
    "    combustible_total = primer_tanque + segundo_tanque + tercer_tanque\n",
    "    promedio = promedio_combustible([primer_tanque, segundo_tanque, tercer_tanque])\n",
    "    return promedio\n",
    "    \n",
    "\n",
    "# Llamamos a la función que genera el reporte print(función(tanque1, tanque2, tanque3))\n",
    "# print(informe_combustible(1, 2, 3))\n",
    "\n",
    "'''\n",
    "    En lugar de simplemente crear el informe, la función también está calculando el promedio. Mejora la legibilidad extrayendo el cáluclo\n",
    "    promedio de la función en una nueva función para que el promedio se pueda hacer de forma independiente.\n",
    "'''\n",
    "\n",
    "def promedio_combustible(valores_promedio: list) -> int:\n",
    "    suma = sum(valores_promedio)\n",
    "    promedio = suma / len(valores_promedio)\n",
    "    return promedio\n",
    "\n",
    "print(informe_combustible(1, 2, 3))"
   ]
  },
  {
   "cell_type": "markdown",
   "metadata": {},
   "source": [
    "## Ejercicio 2: Trabajo con argumentos de palabra clave\n",
    "\n",
    "### Ejercicio: Trabajar con argumentos de palabras clave en funciones\n",
    "\n",
    "En este ejercicio, construirás un informe de cohete que requiere varias piezas de información, como el tiempo hasta el destino, el combustible a la izquierda y el nombre del destino. Comienza por crear una función que creará un informe preciso de la misión."
   ]
  },
  {
   "cell_type": "code",
   "execution_count": 13,
   "metadata": {},
   "outputs": [
    {
     "name": "stdout",
     "output_type": "stream",
     "text": [
      "\n",
      "    - Hora de lanzamiento: 14.\n",
      "\n",
      "    - Tiempo de vuelo: 10.\n",
      "\n",
      "    - Tiempo total de vuelo: 24.\n",
      "\n",
      "    - Destino: Moon.\n",
      "\n",
      "    - Tanque externo: 3000.\n",
      "\n",
      "    - Tanque interno: 1555.\n",
      "\n",
      "    - Combustible total: 4555\n",
      "    \n",
      "\n",
      "    - Hora de lanzamiento: 14.\n",
      "\n",
      "    - Tiempo de vuelo: 10.\n",
      "\n",
      "    - Tiempo total de vuelo: 24.\n",
      "\n",
      "    - Destino: Moon.\n",
      "\n",
      "    - Tanque externo: 3000.\n",
      "\n",
      "    - Tanque interno: 4000.\n",
      "\n",
      "    - Combustible total: 7000\n",
      "    - primer_tanque: 3000 galones restantes.\n",
      "- segundo_tanque: 4000 galones restantes.\n",
      "\n"
     ]
    }
   ],
   "source": [
    "# Función con un informe preciso de la misión. Considera hora de prelanzamiento, tiempo de vuelo, destino, tanque externo y tanque interno.\n",
    "\n",
    "def informe_mision(hora_prelanzamiento, tiempo_vuelo, destino, tanque_externo, tanque_interno):\n",
    "    informe = f\"\"\"\n",
    "    - Hora de lanzamiento: {hora_prelanzamiento}.\\n\n",
    "    - Tiempo de vuelo: {tiempo_vuelo}.\\n\n",
    "    - Tiempo total de vuelo: {hora_prelanzamiento + tiempo_vuelo}.\\n\n",
    "    - Destino: {destino}.\\n\n",
    "    - Tanque externo: {tanque_externo}.\\n\n",
    "    - Tanque interno: {tanque_interno}.\\n\n",
    "    - Combustible total: {tanque_interno + tanque_externo}\n",
    "    \"\"\"\n",
    "    print(informe)\n",
    "\n",
    "'''\n",
    "    La función es problemática porque no se puede adaptar para minutos adicionales o tanques adicionales de combustible. Hazlo más flexible permitiendo cualquier número de\n",
    "    pasos basados en el tiempo y cualquier número de tanques. En lugar de usar *args y **kwargs, aprovecha el hecho de que puedes usar cualquier nombre que desees.\n",
    "    Asegúrate que la función sea más legible mediante el uso de nombres de variables que están asociadas con las entradas, como *minutes y **fuel_reservoirs.\n",
    "'''\n",
    "\n",
    "# Escribe tu nueva función de reporte considerando lo anterior.\n",
    "def informe_mision_2(destino, *tiempo, **combustible):\n",
    "    informe = f\"\"\"\n",
    "    - Hora de lanzamiento: {tiempo[0]}.\\n\n",
    "    - Tiempo de vuelo: {tiempo[1]}.\\n\n",
    "    - Tiempo total de vuelo: {sum(tiempo)}.\\n\n",
    "    - Destino: {destino}.\\n\n",
    "    - Tanque externo: {combustible[\"primer_tanque\"]}.\\n\n",
    "    - Tanque interno: {combustible[\"segundo_tanque\"]}.\\n\n",
    "    - Combustible total: {sum(combustible.values())}\n",
    "    \"\"\"\n",
    "    for tanque, contenido in combustible.items():\n",
    "        informe += f\"- {tanque}: {contenido} galones restantes.\\n\"\n",
    "    \n",
    "    print(informe)\n",
    "\n",
    "informe_mision(14, 10, \"Moon\", 3000, 1555)\n",
    "informe_mision_2(\"Moon\", 14, 10, primer_tanque = 3000, segundo_tanque = 4000)"
   ]
  }
 ],
 "metadata": {
  "interpreter": {
   "hash": "2cbb95e5a402a22ef33930ebe6d0b19345fa4c8860aaa75346193f92a67a802d"
  },
  "kernelspec": {
   "display_name": "Python 3.10.1 64-bit",
   "language": "python",
   "name": "python3"
  },
  "language_info": {
   "codemirror_mode": {
    "name": "ipython",
    "version": 3
   },
   "file_extension": ".py",
   "mimetype": "text/x-python",
   "name": "python",
   "nbconvert_exporter": "python",
   "pygments_lexer": "ipython3",
   "version": "3.10.1"
  },
  "orig_nbformat": 4
 },
 "nbformat": 4,
 "nbformat_minor": 2
}
