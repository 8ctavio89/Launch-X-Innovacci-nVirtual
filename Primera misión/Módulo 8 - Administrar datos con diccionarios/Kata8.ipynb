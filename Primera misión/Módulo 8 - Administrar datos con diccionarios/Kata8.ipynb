{
 "cells": [
  {
   "cell_type": "markdown",
   "metadata": {},
   "source": [
    "## Ejercicio 1: Creación de diccionarios de Python\n",
    "\n",
    "### Ejercicio: Crear y modificar un diccionario de Python\n",
    "\n",
    "Los diccionarios de Python te permiten modelar datos más complejos. Los diccionarios son una colección de pares clave/valor, y son muy comunes en los programas Python. Su flexibilidad le permite trabajar dinámicamente con valores relacionados sin tener que crear clases u objetos.\n",
    "\n",
    "Un diccionario se indica en Python mediante el uso de llaves ({}), con pares clave/valor separados por dos puntos (:). Las claves son literales de cadena y los valores pueden ser de cualquier tipo de datos.\n",
    "\n",
    "```\n",
    "    demo = {\"key\": \"value\", \"number\": 42}\n",
    "```"
   ]
  },
  {
   "cell_type": "code",
   "execution_count": 4,
   "metadata": {},
   "outputs": [
    {
     "name": "stdout",
     "output_type": "stream",
     "text": [
      "Mars 2\n",
      "Planet: Mars\n",
      "Polar circumference: 6752\n"
     ]
    }
   ],
   "source": [
    "'''\n",
    "    Para este ejercicio, crearás un diccionario que almacene información sobre el planeta Marte.\n",
    "\n",
    "    Agrega el código para crear un nuevo diccionario denominado \"planet\". Rellena con la siguiente información:\n",
    "\n",
    "    name: Mars\n",
    "    moons: 2\n",
    "'''\n",
    "\n",
    "planet = {\"Name\": \"Mars\", \"Moons\": 2}\n",
    "\n",
    "'''\n",
    "    Para recuperar valores, puedes utilizar el método get o corchetes ([]) con el nombre de la clave que desea recuperar.\n",
    "'''\n",
    "\n",
    "print(planet[\"Name\"], planet[\"Moons\"])\n",
    "\n",
    "'''\n",
    "    Puedes actualizar las claves existentes o crear otras nuevas utilizando el método update o entre corchetes ([]). Cuando se\n",
    "    usa update, se pasa un nuevo objeto de diccionario con los valores actualizados o nuevos. Cuando se usan corchetes, se \n",
    "    especifica el nombre de la clave y se asigna un nuevo valor.\n",
    "\n",
    "    demo[\"new_key\"] = \"New value\"\n",
    "\n",
    "    Agrega un nuevo valor con una clave de \"circunferencia (km)\". Este nuevo valor debería almacenar un diccionario con las dos\n",
    "    circunferencias del planeta.\n",
    "\n",
    "    polar: 6752\n",
    "    equatorial: 6792\n",
    "'''\n",
    "\n",
    "planet[\"circumference (km)\"] = {\"polar\": 6752, \"equatorial\": 6792}\n",
    "\n",
    "# Imprime el nombre del planeta con su circunferencia polar.\n",
    "print(f\"Planet: {planet['Name']}\\nPolar circumference: {planet['circumference (km)']['polar']}\")"
   ]
  },
  {
   "cell_type": "markdown",
   "metadata": {},
   "source": [
    "## Ejercicio 2: Programación dinámica con diccionarios \n",
    "\n",
    "### Ejercicio: Cálculo de valores\n",
    "\n",
    "En este escenario, calcularás tanto el número total de lunas en el sistema solar como el número promedio de lunas que tiene cada planeta."
   ]
  },
  {
   "cell_type": "code",
   "execution_count": 6,
   "metadata": {},
   "outputs": [
    {
     "name": "stdout",
     "output_type": "stream",
     "text": [
      "17.833333333333332\n"
     ]
    }
   ],
   "source": [
    "planet_moons = {\n",
    "    \"Mercury\": 0,\n",
    "    \"Venus\": 0,\n",
    "    \"Earth\": 1,\n",
    "    \"Mars\": 2,\n",
    "    \"Jupiter\": 79,\n",
    "    \"Saturn\": 82,\n",
    "    \"Uranus\": 27,\n",
    "    \"Neptune\": 14,\n",
    "    \"Pluto\": 5,\n",
    "    \"Haumea\": 2,\n",
    "    \"Makemake\": 1,\n",
    "    \"Eris\": 1\n",
    "}\n",
    "\n",
    "'''\n",
    "    Los diccionarios de Python te permiten recuperar todos los valores y claves utilizando los métodos values y keys, respectivamente. Cada método\n",
    "    devuelve una lista que contiene los datos, que luego se puede usar como una lista normal de Python. Puedes determinar el número de elementos\n",
    "    mediante len, e iterar a través de él mediante un ciclo for.\n",
    "\n",
    "    Agrega el código para contar el número de lunas. Comienza almacenando el valor values de planet_moons en una variable denominada moons. A\n",
    "    continuación, almacena el número de planetas en una variable denominada planets.\n",
    "'''\n",
    "\n",
    "planets = len(planet_moons)\n",
    "\n",
    "'''\n",
    "    Agrega el código para contar el número de lunas. Puedes hacerlo creando un ciclo for para iterar a través de las lunas moons y agregándolas a una\n",
    "    variable denominada total_moons por planets e imprimiendo los resultados.\n",
    "'''\n",
    "\n",
    "total_moons = 0\n",
    "\n",
    "for moon in planet_moons.values():\n",
    "    total_moons += moon\n",
    "\n",
    "average = total_moons / planets\n",
    "\n",
    "print(average)\n",
    "\n"
   ]
  }
 ],
 "metadata": {
  "interpreter": {
   "hash": "2cbb95e5a402a22ef33930ebe6d0b19345fa4c8860aaa75346193f92a67a802d"
  },
  "kernelspec": {
   "display_name": "Python 3.10.1 64-bit",
   "language": "python",
   "name": "python3"
  },
  "language_info": {
   "codemirror_mode": {
    "name": "ipython",
    "version": 3
   },
   "file_extension": ".py",
   "mimetype": "text/x-python",
   "name": "python",
   "nbconvert_exporter": "python",
   "pygments_lexer": "ipython3",
   "version": "3.10.1"
  },
  "orig_nbformat": 4
 },
 "nbformat": 4,
 "nbformat_minor": 2
}
