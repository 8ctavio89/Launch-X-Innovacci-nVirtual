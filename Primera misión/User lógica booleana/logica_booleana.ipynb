{
 "cells": [
  {
   "cell_type": "markdown",
   "metadata": {},
   "source": [
    "## Ejercicio - Escribir declaracions if, else y elif"
   ]
  },
  {
   "cell_type": "markdown",
   "metadata": {},
   "source": [
    "Para este ejercicio escribirás una lógica condicional que imrpima una advertencia si un asteroide se acerca a la Tierra demasiado rápido. La velocidad del asteroide varía dependiendo de lo cerca que esté del sol, y cualquier velocidad superior a 25 kilómetros por segundo (km/s) merece una advertencia.\n",
    "\n",
    "Un asteroide se acerca, y viaja a una velocidad de 49 km/h.\n",
    "\n",
    "Se un asteriode entra en la atmósfera de la Tierra a una velocidad mayor o igual a 20 km/s, a veces produce un rayo de luz que se puede ver desde la Tierra. Escribe una lógica condicional que usa declaraciones if, else y elif para alertar a las personas de todo el mundo que deben buscar un asteroide en el cielo. ¡Hay uno que se dirige a la tierra ahora a una velocidad de 19 km/s!"
   ]
  },
  {
   "cell_type": "code",
   "execution_count": 2,
   "metadata": {},
   "outputs": [
    {
     "name": "stdout",
     "output_type": "stream",
     "text": [
      "Advertencia, se acerca un asteroide a una velocidad de 49 km/h.\n"
     ]
    }
   ],
   "source": [
    "asteroid_speed = 49\n",
    "\n",
    "if (asteroid_speed > 25):\n",
    "    print(f\"Advertencia, se acerca un asteroide a una velocidad de {asteroid_speed} km/h.\")"
   ]
  },
  {
   "cell_type": "code",
   "execution_count": 3,
   "metadata": {},
   "outputs": [
    {
     "name": "stdout",
     "output_type": "stream",
     "text": [
      "Hay un asteroide en la atmósfera.\n"
     ]
    }
   ],
   "source": [
    "asteroid_speed = 19\n",
    "\n",
    "if (asteroid_speed >= 20):\n",
    "    print(\"Un asteroide ha entrado en la atmósfera de la Tierra. Busca un rayo de luz en el cielo.\")\n",
    "else:\n",
    "    print(\"Hay un asteroide en la atmósfera. Pero no se acerca a una velocidad peligrosa.\")"
   ]
  }
 ],
 "metadata": {
  "interpreter": {
   "hash": "2cbb95e5a402a22ef33930ebe6d0b19345fa4c8860aaa75346193f92a67a802d"
  },
  "kernelspec": {
   "display_name": "Python 3.10.1 64-bit",
   "language": "python",
   "name": "python3"
  },
  "language_info": {
   "codemirror_mode": {
    "name": "ipython",
    "version": 3
   },
   "file_extension": ".py",
   "mimetype": "text/x-python",
   "name": "python",
   "nbconvert_exporter": "python",
   "pygments_lexer": "ipython3",
   "version": "3.10.1"
  },
  "orig_nbformat": 4
 },
 "nbformat": 4,
 "nbformat_minor": 2
}
